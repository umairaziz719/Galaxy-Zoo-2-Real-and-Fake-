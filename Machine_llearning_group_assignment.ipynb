{
 "cells": [
  {
   "cell_type": "code",
   "execution_count": 1,
   "metadata": {
    "id": "lQrDDC-QoAX6"
   },
   "outputs": [],
   "source": [
    "import cv2 as cv\n",
    "from tensorflow.keras.regularizers import l2\n",
    "from tensorflow.keras.optimizers import Adam\n",
    "import numpy as np\n",
    "from matplotlib import pyplot\n",
    "import pandas as pd\n",
    "from keras import layers\n",
    "import os\n",
    "\n",
    "import numpy as np\n",
    "import matplotlib.pyplot as plt\n",
    "import cv2\n",
    "import tensorflow as tf\n",
    "import seaborn as sns\n",
    "from matplotlib import pyplot\n",
    "import matplotlib.pyplot as plt\n",
    "from google.colab import drive\n",
    "import tensorflow as tf\n",
    "import keras.utils as image\n",
    "from keras.preprocessing import image\n",
    "from tensorflow.keras.preprocessing.image import ImageDataGenerator\n",
    "from tensorflow import keras\n",
    "from keras.models import Sequential\n",
    "from keras.callbacks import EarlyStopping\n",
    "from keras.layers import Conv2D, MaxPooling2D, Dense, Dropout, Flatten, BatchNormalization\n",
    "from tensorflow.keras.optimizers import Adam\n",
    "from keras.preprocessing.image import ImageDataGenerator\n",
    "from keras import regularizers\n",
    "from keras.layers import LeakyReLU\n",
    "import glob\n",
    "from keras.callbacks import EarlyStopping\n",
    "from sklearn.model_selection import train_test_split"
   ]
  },
  {
   "cell_type": "code",
   "execution_count": null,
   "metadata": {},
   "outputs": [],
   "source": [
    "drive.mount('/content/drive')"
   ]
  },
  {
   "cell_type": "code",
   "execution_count": null,
   "metadata": {},
   "outputs": [],
   "source": [
    "training_path = '/content/drive/MyDrive/Group_Project_Data/Train'\n",
    "test_path = '/content/drive/MyDrive/Group_Project_Data/Valid'\n",
    "print(training_path)"
   ]
  },
  {
   "cell_type": "code",
   "execution_count": null,
   "metadata": {},
   "outputs": [],
   "source": [
    "# Function to display a picture of a cat/dog and it's respective label\n",
    "def plot_image(path, int_type):\n",
    "    _path = path\n",
    "    label = None\n",
    "    if int_type == 0:\n",
    "        _path = _path + \"/\" + \"Fake\"\n",
    "        label = 0\n",
    "    else:\n",
    "        _path = _path + \"/\" + \"Real\"\n",
    "        label = 1\n",
    "    \n",
    "    plt.figure(figsize=(30, 30))\n",
    "    plt.subplots_adjust(top=None, bottom=None, left=None, right=None, wspace=0.2, hspace=0.5)\n",
    "    \n",
    "    lst_img_name = os.listdir(_path)\n",
    "    for i in range(1, 17, 1):\n",
    "        th = np.random.randint(0, len(lst_img_name) - 1)\n",
    "        plt.subplot(4, 4, i)\n",
    "        img = _path + \"/\" + lst_img_name[th]\n",
    "        img = cv.imread(img)\n",
    "        plt.imshow(img)\n",
    "        if label == 0:\n",
    "            plt.title(\"Fake\")\n",
    "        else:\n",
    "            plt.title(\"Real\")"
   ]
  },
  {
   "cell_type": "code",
   "execution_count": null,
   "metadata": {},
   "outputs": [],
   "source": [
    "plot_image(training_path, 1)"
   ]
  },
  {
   "cell_type": "code",
   "execution_count": null,
   "metadata": {},
   "outputs": [],
   "source": [
    "train_data=ImageDataGenerator(rescale=1./255,horizontal_flip=True, vertical_flip=True)\n",
    "test_data=ImageDataGenerator(rescale=1./255,horizontal_flip=True, vertical_flip=True)"
   ]
  },
  {
   "cell_type": "code",
   "execution_count": null,
   "metadata": {},
   "outputs": [],
   "source": [
    "train_data_generated=train_data.flow_from_directory(\n",
    "            directory=training_path, \n",
    "            batch_size=60, \n",
    "            target_size=(64,64), \n",
    "            \n",
    "            class_mode='binary')\n",
    "\n",
    "test_data_generated=test_data.flow_from_directory(\n",
    "            directory=test_path, \n",
    "            batch_size=60, \n",
    "            target_size=(64,64), \n",
    "            \n",
    "            class_mode='binary')"
   ]
  },
  {
   "cell_type": "code",
   "execution_count": null,
   "metadata": {},
   "outputs": [],
   "source": [
    "from keras.callbacks import EarlyStopping\n",
    "es = EarlyStopping(monitor='val_loss', mode='min', verbose=1, patience=3)\n",
    "model_info = model.fit(train_data_generated, epochs=10, validation_data=test_data_generated,callbacks=[es],steps_per_epoch=len(train_data_generated))"
   ]
  },
  {
   "cell_type": "code",
   "execution_count": null,
   "metadata": {},
   "outputs": [],
   "source": [
    "from matplotlib import pyplot\n",
    "\n",
    "sns.set()\n",
    "fig = pyplot.figure(0, (12, 4))\n",
    "\n",
    "ax = pyplot.subplot(1, 2, 1)\n",
    "sns.lineplot(model_info.history['accuracy'], label='train')\n",
    "sns.lineplot( model_info.history['val_accuracy'], label='valid')\n",
    "pyplot.title('Accuracy')\n",
    "pyplot.tight_layout()\n",
    "\n",
    "ax = pyplot.subplot(1, 2, 2)\n",
    "sns.lineplot( model_info.history['loss'], label='train')\n",
    "sns.lineplot( model_info.history['val_loss'], label='valid')\n",
    "pyplot.title('Loss')\n",
    "pyplot.tight_layout()\n",
    "\n",
    "#pyplot.savefig('epoch_history_CNN.png')\n",
    "pyplot.show()"
   ]
  },
  {
   "cell_type": "code",
   "execution_count": null,
   "metadata": {},
   "outputs": [],
   "source": [
    "pred=model.predict(test_data_generated)"
   ]
  },
  {
   "cell_type": "code",
   "execution_count": null,
   "metadata": {},
   "outputs": [],
   "source": [
    "print(pred)"
   ]
  },
  {
   "cell_type": "code",
   "execution_count": null,
   "metadata": {},
   "outputs": [],
   "source": [
    "import os\n",
    "import numpy as np\n",
    "import matplotlib.pyplot as plt\n",
    "import cv2\n",
    "import tensorflow as tf\n",
    "\n",
    "def test_model(path, model, int_type):\n",
    "    pred=[]\n",
    "    _path = path\n",
    "    label = None\n",
    "    predict_label = None\n",
    "    if int_type == 0:\n",
    "        _path = _path + \"/\" + \"Fake\"\n",
    "        label = 0\n",
    "    else:\n",
    "        _path = _path + \"/\" + \"Real\"\n",
    "        label = 1\n",
    "    \n",
    "    plt.figure(figsize=(30, 30))\n",
    "    plt.subplots_adjust(top=None, bottom=None, left=None, right=None, wspace=0.2, hspace=0.5)\n",
    "    lst_img_name = os.listdir(_path)\n",
    "    if len(lst_img_name) < 2:\n",
    "        return\n",
    "    for i in range(1, 17, 1):\n",
    "        th = np.random.randint(0, len(lst_img_name) - 1)\n",
    "        plt.subplot(4, 4, i)\n",
    "        img = _path + \"/\" + lst_img_name[th]\n",
    "        image_test = tf.keras.preprocessing.image.load_img(img, target_size=(64,64))\n",
    "        image_test = tf.keras.preprocessing.image.img_to_array(image_test)\n",
    "        image_test = np.expand_dims(image_test, axis = 0)\n",
    "        predict = model.predict(image_test)\n",
    "        #pred.append(predict)\n",
    "        \n",
    "        img = cv.imread(img)\n",
    "        plt.imshow(img)\n",
    "        print(predict[0][0])\n",
    "        if predict[0][0] > 0.5:\n",
    "            predict_label = \"Predic: Real\"\n",
    "            pred.append(\"real\")\n",
    "        else:\n",
    "            predict_label = \"Predic: Fake\"\n",
    "            pred.append(\"fake\")\n",
    "            \n",
    "        if label == 0:\n",
    "            plt.title(\"Actual: Fake\" + \" - \" + predict_label)\n",
    "        else:\n",
    "            plt.title(\"Acutal: Real\" + \" - \" + predict_label)"
   ]
  },
  {
   "cell_type": "code",
   "execution_count": 15,
   "metadata": {
    "id": "UICItD_dobFp"
   },
   "outputs": [],
   "source": [
    "# Saving your model\n",
    "\n",
    "our_model.save('/content/Group_X_Model_Trained')"
   ]
  },
  {
   "cell_type": "code",
   "execution_count": 16,
   "metadata": {
    "colab": {
     "base_uri": "https://localhost:8080/"
    },
    "id": "MCEZ79GPotZ0",
    "outputId": "b7cc8c06-70ff-4b00-ec54-5e3aeed81241"
   },
   "outputs": [
    {
     "name": "stdout",
     "output_type": "stream",
     "text": [
      "Model: \"sequential\"\n",
      "_________________________________________________________________\n",
      " Layer (type)                Output Shape              Param #   \n",
      "=================================================================\n",
      " dense (Dense)               (None, 1)                 65        \n",
      "                                                                 \n",
      "=================================================================\n",
      "Total params: 65\n",
      "Trainable params: 65\n",
      "Non-trainable params: 0\n",
      "_________________________________________________________________\n"
     ]
    }
   ],
   "source": [
    "# Test saved model\n",
    "\n",
    "loaded_model = tf.keras.models.load_model('/content/Group_X_Model_Trained')\n",
    "loaded_model.summary()"
   ]
  },
  {
   "cell_type": "code",
   "execution_count": 19,
   "metadata": {
    "colab": {
     "base_uri": "https://localhost:8080/"
    },
    "id": "ygEz3IZ1qqS5",
    "outputId": "6743d822-a5e5-44f9-865f-fc46f29a428f"
   },
   "outputs": [
    {
     "name": "stdout",
     "output_type": "stream",
     "text": [
      "  adding: content/Group_X_Model_Trained/ (stored 0%)\n",
      "  adding: content/Group_X_Model_Trained/variables/ (stored 0%)\n",
      "  adding: content/Group_X_Model_Trained/variables/variables.index (deflated 51%)\n",
      "  adding: content/Group_X_Model_Trained/variables/variables.data-00000-of-00001 (deflated 54%)\n",
      "  adding: content/Group_X_Model_Trained/saved_model.pb (deflated 85%)\n",
      "  adding: content/Group_X_Model_Trained/assets/ (stored 0%)\n",
      "  adding: content/Group_X_Model_Trained/keras_metadata.pb (deflated 77%)\n"
     ]
    }
   ],
   "source": [
    "# zip the model\n",
    "!zip -r /content/Group_X_Model_Trained.zip /content/Group_X_Model_Trained"
   ]
  }
 ],
 "metadata": {
  "colab": {
   "provenance": []
  },
  "kernelspec": {
   "display_name": "Python 3 (ipykernel)",
   "language": "python",
   "name": "python3"
  },
  "language_info": {
   "codemirror_mode": {
    "name": "ipython",
    "version": 3
   },
   "file_extension": ".py",
   "mimetype": "text/x-python",
   "name": "python",
   "nbconvert_exporter": "python",
   "pygments_lexer": "ipython3",
   "version": "3.9.13"
  }
 },
 "nbformat": 4,
 "nbformat_minor": 4
}
